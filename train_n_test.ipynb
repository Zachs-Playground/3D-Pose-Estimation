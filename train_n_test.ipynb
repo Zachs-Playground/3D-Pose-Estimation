{
 "cells": [
  {
   "cell_type": "code",
   "execution_count": 1,
   "metadata": {},
   "outputs": [
    {
     "name": "stdout",
     "output_type": "stream",
     "text": [
      "kernel\n"
     ]
    }
   ],
   "source": [
    "print(\"kernel\")"
   ]
  },
  {
   "cell_type": "code",
   "execution_count": 1,
   "metadata": {},
   "outputs": [
    {
     "name": "stdout",
     "output_type": "stream",
     "text": [
      "Loaded Checkpoint\n"
     ]
    }
   ],
   "source": [
    "import math\n",
    "import json\n",
    "\n",
    "import torch\n",
    "import torch.nn as nn\n",
    "import torch.optim as optim\n",
    "\n",
    "\n",
    "from util import prepare_inputs, calculate_loss\n",
    "from model import Pred3DPose\n",
    "\n",
    "cuda = False\n",
    "load_pretrained = True\n",
    "device = torch.device(\"cuda\" if torch.cuda.is_available() and cuda == True else \"cpu\")\n",
    "epoch = 50\n",
    "batch_size = 31\n",
    "frame_sequence = 5\n",
    "\n",
    "if frame_sequence % 2 == 0:\n",
    "  raise RuntimeError(\"frame_sequence must be an odd number.\")\n",
    "\n",
    "span = frame_sequence // 2\n",
    "\n",
    "\n",
    "cam_path = \"./data/processed_data/cam.json\"    \n",
    "annot_3d_path = \"./data/processed_data/annot_3d.json\"   \n",
    "annot_2d_path = \"./data/processed_data/annot_2d.json\"   \n",
    "\n",
    "\n",
    "# ---------------------------------------------------------\n",
    "# data section\n",
    "# ---------------------------------------------------------\n",
    "with open(cam_path, \"r\") as camf:\n",
    "  cam_params = json.loads(camf.read())\n",
    "  cam_params_torch = torch.tensor(cam_params[0], dtype=torch.float32)   #  4cams\n",
    "  cam_params_torch = torch.squeeze(cam_params_torch, dim=1)\n",
    "  cam_params_dict = cam_params[1]\n",
    "\n",
    "with open(annot_3d_path, \"r\") as annot3df:\n",
    "  labels_3d = json.loads(annot3df.read())   # person, video, frame, joints, xyz\n",
    "  test_labels_3d = labels_3d[-1]\n",
    "  labels_3d = labels_3d[:-1]\n",
    "\n",
    "with open(annot_2d_path, \"r\") as annot2df:\n",
    "  labels_2d = json.loads(annot2df.read())   # person, camera, video, frame, joints, xy\n",
    "  test_labels_2d = labels_2d[-1]\n",
    "  labels_2d = labels_2d[:-1]\n",
    "\n",
    "\n",
    "\n",
    "model = Pred3DPose().to(device)\n",
    "model.train()\n",
    "criterion = nn.MSELoss()\n",
    "\n",
    "if load_pretrained:\n",
    "  checkpoint = torch.load(\"./checkpoint/epoch7.pt\")\n",
    "  model.load_state_dict(checkpoint['model_state_dict'])\n",
    "  print(\"Loaded Checkpoint\")\n",
    "\n",
    "optimizer = optim.Adam(model.parameters(), lr=0.0001)\n",
    "if load_pretrained:\n",
    "    optimizer.load_state_dict(checkpoint['optimizer_state_dict'])\n",
    "\n",
    "\n",
    "\n",
    "for i in range(epoch):\n",
    "  avg_loss_per_epoch = 0.0\n",
    "  count = 0\n",
    "  for person_idx, person in enumerate(labels_2d):\n",
    "    \n",
    "    for vid_idx, vid in enumerate(person[0]):\n",
    "      mini_len =  math.inf\n",
    "      inputs = []\n",
    "      for cam_idx in range(len(person)):\n",
    "        frames_in_one_video = person[cam_idx][vid_idx]\n",
    "        mini_len = min(len(frames_in_one_video), mini_len)\n",
    "        inputs.append(frames_in_one_video)\n",
    "\n",
    "      for cam_input_idx, one_cam_input in enumerate(inputs):\n",
    "        if len(one_cam_input) > mini_len:\n",
    "          inputs[cam_input_idx] = one_cam_input[ : mini_len]\n",
    "      \n",
    "      gt_2d = torch.tensor(inputs, dtype=torch.float32)\n",
    "      # gt_2d = torch.squeeze(gt_2d, dim=1)\n",
    "      inputs = prepare_inputs(gt_2d, cam_params_torch)\n",
    "      \n",
    "      for idx in range(span, inputs.size(0) - span, batch_size + span):\n",
    "        optimizer.zero_grad()\n",
    "\n",
    "        small_batch_inputs = inputs[idx - span : idx + batch_size + span].to(device)\n",
    "\n",
    "        if (small_batch_inputs.size(0) - span) < 1 + span:\n",
    "          continue\n",
    "        else:\n",
    "          pred_3d = model(small_batch_inputs, span)\n",
    "          # pred_2d = project_3d_to_2d(pred_3d, cam_params_dict)\n",
    "          actual_n_frames = pred_3d.size(0)\n",
    "          # batch_gt_2d = gt_2d[:, idx : idx + actual_n_frames].to(device)\n",
    "          \n",
    "          batch_gt_3d = labels_3d[person_idx][vid_idx][idx : idx + actual_n_frames]\n",
    "          batch_gt_3d = torch.tensor(batch_gt_3d, dtype=torch.float32).to(device)\n",
    "          # scale = align_3d_scales(pred_3d, batch_gt_3d)\n",
    "          # pred_3d *= scale\n",
    "          \n",
    "          # loss = calculate_loss(pred_2d, pred_3d, batch_gt_2d, batch_gt_3d, loss_func=criterion)\n",
    "          # loss = calculate_loss(pred_2d, batch_gt_2d, loss_func=criterion)\n",
    "          loss = criterion(pred_3d, batch_gt_3d)\n",
    "          avg_loss_per_epoch += loss\n",
    "          count += 1\n",
    "          \n",
    "          loss.backward()\n",
    "          optimizer.step()\n",
    "\n",
    "    # print(f\"average loss for epoch: {i}, people: {person_idx}, loss: {avg_loss_per_vid / count}\")\n",
    "  print(f\"average loss for epoch: {i}, loss: {avg_loss_per_epoch / count}\")\n",
    "  \n",
    "  torch.save({\n",
    "      'epoch': i,\n",
    "      'model_state_dict': model.state_dict(),\n",
    "      'optimizer_state_dict': optimizer.state_dict(),\n",
    "      'loss': loss,\n",
    "    }, f\"./checkpoint/epoch{i}.pt\")\n"
   ]
  }
 ],
 "metadata": {
  "kernelspec": {
   "display_name": "PoseEsitmation",
   "language": "python",
   "name": "python3"
  },
  "language_info": {
   "codemirror_mode": {
    "name": "ipython",
    "version": 3
   },
   "file_extension": ".py",
   "mimetype": "text/x-python",
   "name": "python",
   "nbconvert_exporter": "python",
   "pygments_lexer": "ipython3",
   "version": "3.9.13"
  },
  "orig_nbformat": 4,
  "vscode": {
   "interpreter": {
    "hash": "f56fdbcbf5c67de829afcd6700ae7119465e6020c6880efb76df0a3cdef456e2"
   }
  }
 },
 "nbformat": 4,
 "nbformat_minor": 2
}
