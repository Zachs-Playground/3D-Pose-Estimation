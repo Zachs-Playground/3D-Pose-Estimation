{
 "cells": [
  {
   "cell_type": "code",
   "execution_count": 63,
   "metadata": {},
   "outputs": [],
   "source": [
    "\"\"\" Combine Annotation JSON files \"\"\"\n",
    "\n",
    "# only need to run once for ZJM dataset\n",
    "\n",
    "import json\n",
    "import glob\n",
    "\n",
    "count = 0\n",
    "def combine_annot_files(paths, skip_n_frames=20):\n",
    "  frame_dict = dict()\n",
    "  count = 1\n",
    "  for path in paths:\n",
    "    key_joints = []\n",
    "    frames_n = 0\n",
    "    for files in glob.glob(path):\n",
    "      if frames_n % skip_n_frames == 0:\n",
    "        with open(files, \"r\") as f:\n",
    "          data = json.loads(f.read())\n",
    "          key_joint = data[\"annots\"][0][\"keypoints\"]\n",
    "          key_joints.append(key_joint)\n",
    "      frames_n += 1\n",
    "    name = f\"cam_{count}\"\n",
    "    frame_dict[name] = key_joints\n",
    "    count += 1\n",
    "  with open(\"./363/annots.json\", \"w\") as write_file:\n",
    "    json.dump(frame_dict, write_file)\n",
    "\n",
    "paths = [\"./363/annots/01/*.json\",\n",
    "         \"./363/annots/06/*.json\",\n",
    "         \"./363/annots/12/*.json\",\n",
    "         \"./363/annots/18/*.json\"]\n",
    "combine_annot_files(paths)\n",
    "\n",
    "with open(\"./363/annots.json\", \"r\") as a_file:\n",
    "  data = json.loads(a_file.read())\n",
    "\n",
    "print(data[\"cam_1\"])"
   ]
  },
  {
   "cell_type": "code",
   "execution_count": 1,
   "metadata": {},
   "outputs": [
    {
     "name": "stdout",
     "output_type": "stream",
     "text": [
      "Connect to kernel\n"
     ]
    }
   ],
   "source": [
    "\"\"\" Read Video File \"\"\"\n",
    "\n",
    "# not needed for the ZJM dataset\n",
    "print(\"Connect to kernel\")"
   ]
  },
  {
   "cell_type": "code",
   "execution_count": 2,
   "metadata": {},
   "outputs": [],
   "source": [
    "import numpy as np\n",
    "import torch\n",
    "import torch.nn as nn\n",
    "import torch.optim as optim\n",
    "# from torchvision import transforms, datasets\n",
    "\n",
    "from utils.ReadFile import ReadFile\n",
    "from utils.util import generate_rays, get_closest_point, project_3d_to_2d, get_gt_annots, calculate_loss\n",
    "\n",
    "# Check if you are using a specific weight initialization technique\n",
    "from model import RayPoseAttention\n"
   ]
  },
  {
   "cell_type": "code",
   "execution_count": 3,
   "metadata": {},
   "outputs": [
    {
     "name": "stdout",
     "output_type": "stream",
     "text": [
      "torch.Size([9, 25, 6, 3])\n",
      "torch.Size([9, 25, 6, 3])\n",
      "torch.Size([9, 25, 6, 3])\n",
      "torch.Size([9, 25, 6, 3])\n",
      "torch.Size([9, 25, 6, 3])\n",
      "torch.Size([9, 25, 6, 3])\n",
      "torch.Size([9, 25, 6, 3])\n",
      "torch.Size([9, 25, 6, 3])\n",
      "torch.Size([9, 25, 6, 3])\n",
      "torch.Size([9, 25, 6, 3])\n",
      "torch.Size([9, 25, 6, 3])\n",
      "torch.Size([9, 25, 6, 3])\n",
      "torch.Size([9, 25, 6, 3])\n",
      "torch.Size([9, 25, 6, 3])\n",
      "torch.Size([9, 25, 6, 3])\n",
      "torch.Size([9, 25, 6, 3])\n",
      "torch.Size([9, 25, 6, 3])\n",
      "torch.Size([9, 25, 6, 3])\n"
     ]
    },
    {
     "ename": "IndexError",
     "evalue": "invalid index of a 0-dim tensor. Use `tensor.item()` in Python or `tensor.item<T>()` in C++ to convert a 0-dim tensor to a number",
     "output_type": "error",
     "traceback": [
      "\u001b[1;31m---------------------------------------------------------------------------\u001b[0m",
      "\u001b[1;31mIndexError\u001b[0m                                Traceback (most recent call last)",
      "Cell \u001b[1;32mIn[3], line 71\u001b[0m\n\u001b[0;32m     69\u001b[0m       loss\u001b[39m.\u001b[39mbackward(retain_graph\u001b[39m=\u001b[39m\u001b[39mTrue\u001b[39;00m)\n\u001b[0;32m     70\u001b[0m       optimizer\u001b[39m.\u001b[39mstep()\n\u001b[1;32m---> 71\u001b[0m \u001b[39mprint\u001b[39m(\u001b[39m\"\u001b[39m\u001b[39maverage loss over the entire camera sets: \u001b[39m\u001b[39m\"\u001b[39m, avg_loss_per_cam_set[\u001b[39m0\u001b[39;49m]\u001b[39m/\u001b[39m\u001b[39mlen\u001b[39m(cam_sets))\n",
      "\u001b[1;31mIndexError\u001b[0m: invalid index of a 0-dim tensor. Use `tensor.item()` in Python or `tensor.item<T>()` in C++ to convert a 0-dim tensor to a number"
     ]
    }
   ],
   "source": [
    "import sys\n",
    "\n",
    "epoch = 20\n",
    "batch_size = 5\n",
    "frame_sequence = 5\n",
    "n_cams = 4\n",
    "permutation_of_n_cams = sum([n for n in range(n_cams)])\n",
    "\n",
    "if frame_sequence % 2 == 0:\n",
    "  raise RuntimeError(\"frame_sequence must be an odd number.\")\n",
    "\n",
    "span = frame_sequence // 2\n",
    "\n",
    "folder_paths = [\n",
    "  \"./363\", \"./364\", \"./365\", \"./366\", \"./367\", \"./368\", \"./369\", \"./370\",\n",
    "  \"./371\", \"./377\", \"./378\", \"./379\", \"./380\", \"./381\", \"./382\", \"./383\",\n",
    "  \"./384\", \"./385\", \"./386\", \"./387\", \"./388\"\n",
    "]\n",
    "\n",
    "cam_sets = [\n",
    "  [ \n",
    "    [\"Rot_01\", \"T_01\", \"K_01\"], [\"Rot_06\", \"T_06\", \"K_06\"],\n",
    "    [\"Rot_12\", \"T_12\", \"K_12\"], [\"Rot_18\", \"T_18\", \"K_18\"]\n",
    "  ],\n",
    "  [ \n",
    "    [\"Rot_03\", \"T_03\", \"K_03\"], [\"Rot_09\", \"T_09\", \"K_09\"],\n",
    "    [\"Rot_15\", \"T_15\", \"K_15\"], [\"Rot_21\", \"T_21\", \"K_21\"]\n",
    "  ],\n",
    "  [ \n",
    "    [\"Rot_05\", \"T_05\", \"K_05\"], [\"Rot_11\", \"T_11\", \"K_11\"],\n",
    "    [\"Rot_17\", \"T_17\", \"K_17\"], [\"Rot_23\", \"T_23\", \"K_23\"]\n",
    "  ]\n",
    "]\n",
    "\n",
    "model = RayPoseAttention(encoding_dim=[32, 128, 512], decoding_dim=[permutation_of_n_cams, permutation_of_n_cams, 1], n_sequence=frame_sequence, n_joints=25)\n",
    "model.train()\n",
    "criterion = nn.MSELoss()\n",
    "optimizer = optim.Adam(model.parameters(), lr=0.001)\n",
    "\n",
    "for i in range(epoch):\n",
    "  for folder_path in folder_paths:\n",
    "    avg_loss_per_cam_set = 0.\n",
    "    for cam_set in cam_sets:\n",
    "      read_files = ReadFile(camera_folder_path=folder_path, annot_folder_path=folder_path)\n",
    "      cams_params = read_files.get_camera_params(dataset=\"ZJM\", \n",
    "                                                extri_file=\"extri.yml\",\n",
    "                                                intri_file=\"intri.yml\",\n",
    "                                                cam_list=cam_set)\n",
    "\n",
    "      annots = read_files.get_annots(file_name=\"annots.json\")\n",
    "      rays = generate_rays(cams_params, annots)\n",
    "      points = get_closest_point(rays, len(cam_set))    # shape => (n_frames, n_joints, nC2 combination, 3)      \n",
    "      \n",
    "      pts_torch = torch.from_numpy(points)\n",
    "      for idx in range(0, pts_torch.size(0), span + batch_size):\n",
    "        \n",
    "        optimizer.zero_grad()\n",
    "        \n",
    "        inputs = pts_torch[idx : idx + span * 2 + batch_size]\n",
    "        if inputs.size(0) == span * 2 + batch_size:\n",
    "          output = model(inputs, batch_size)   # shape => (batch, n_joints, 3)\n",
    "          \n",
    "          pred_2d_multi_cam = project_3d_to_2d(output, cams_params)\n",
    "          gt = get_gt_annots(annots, start=idx + span, end=idx + span + batch_size)\n",
    "          loss = calculate_loss(pred_2d_multi_cam, gt, loss_func=criterion)\n",
    "\n",
    "          avg_loss_per_cam_set += loss\n",
    "          \n",
    "          loss.backward(retain_graph=True)\n",
    "          optimizer.step()\n",
    "    print(\"average loss over the entire camera sets: \", avg_loss_per_cam_set/len(cam_sets))\n"
   ]
  },
  {
   "cell_type": "code",
   "execution_count": null,
   "metadata": {},
   "outputs": [],
   "source": [
    "import matplotlib.pyplot as plt\n",
    "\n",
    "fig = plt.figure()\n",
    "ax = plt.axes(projection =\"3d\")\n",
    "\n",
    "x = points[3:, 0]\n",
    "y = points[3:, 1]\n",
    "z = points[3:, 2]\n",
    "ax.scatter3D(x, y, z)\n",
    "\n",
    "x = points[0:3, 0]\n",
    "y = points[0:3, 1]\n",
    "z = points[0:3, 2]\n",
    "ax.scatter3D(x, y, z, color = \"green\")\n",
    "\n",
    "plt.show()"
   ]
  },
  {
   "cell_type": "code",
   "execution_count": 46,
   "metadata": {},
   "outputs": [
    {
     "data": {
      "image/png": "[encoded data removed]",
      "text/plain": [
       "<Figure size 432x288 with 1 Axes>"
      ]
     },
     "metadata": {
      "needs_background": "light"
     },
     "output_type": "display_data"
    }
   ],
   "source": [
    "import matplotlib.pyplot as plt\n",
    "\n",
    "fig = plt.figure()\n",
    "ax = plt.axes(projection =\"3d\")\n",
    "\n",
    "x = selected_points[:,0]\n",
    "y = selected_points[:,1]\n",
    "z = selected_points[:,2]\n",
    "ax.scatter3D(x, y, z)\n",
    "\n",
    "x = centroid[0][0]\n",
    "y = centroid[0][1]\n",
    "z = centroid[0][2]\n",
    "ax.scatter3D(x, y, z, color = \"red\")\n",
    "\n",
    "plt.show()"
   ]
  },
  {
   "cell_type": "code",
   "execution_count": 47,
   "metadata": {},
   "outputs": [],
   "source": [
    "\n",
    "  "
   ]
  },
  {
   "cell_type": "code",
   "execution_count": 29,
   "metadata": {},
   "outputs": [],
   "source": []
  }
 ],
 "metadata": {
  "kernelspec": {
   "display_name": "PoseEstimation",
   "language": "python",
   "name": "python3"
  },
  "language_info": {
   "codemirror_mode": {
    "name": "ipython",
    "version": 3
   },
   "file_extension": ".py",
   "mimetype": "text/x-python",
   "name": "python",
   "nbconvert_exporter": "python",
   "pygments_lexer": "ipython3",
   "version": "3.9.13"
  },
  "orig_nbformat": 4,
  "vscode": {
   "interpreter": {
    "hash": "7fb3b74b37783b6206df2b0527a0564e6f1aed3ca1074bc1640fc3b952b5747a"
   }
  }
 },
 "nbformat": 4,
 "nbformat_minor": 2
}
